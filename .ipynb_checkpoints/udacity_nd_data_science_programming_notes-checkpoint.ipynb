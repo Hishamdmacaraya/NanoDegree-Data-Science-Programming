{
 "cells": [
  {
   "cell_type": "markdown",
   "id": "1b4446ce",
   "metadata": {},
   "source": [
    "# What is Programming Course"
   ]
  },
  {
   "cell_type": "markdown",
   "id": "72d81259",
   "metadata": {},
   "source": [
    "Hello and welcome to this course on learning \"What is Programming\"! In this course, we're going to be looking at words, terms, and concepts in the worlds of web technology and programming. This course isn't going to dive into the nitty gritty details of how a web request is converted to bits and sent across the wire as electrical pulses...and that level of detail of explanation is already significantly more complicated and low-level than we'll be diving!\n",
    "\n",
    "In this course, we'll be looking at five main sections:\n",
    "\n",
    "* Web Languages\n",
    "* Programming\n",
    "* Standards\n",
    "* Version Control\n",
    "* Disparate Web Terms\n",
    "\n",
    "**Web Languages**\n",
    "The web is a wide and varied place. Many people spend their entire careers in the world of web development. So in this section, we'll be looking at:\n",
    "\n",
    "* front end vs back end\n",
    "* Front-end languages\n",
    "* Back-end languages\n",
    "* Programming\n",
    "\n",
    "The notion of \"programming\" can be a little cryptic if you haven't ever done it before. What exactly does a programmer _do_? How does one become a programmer? In this section, we'll look at:\n",
    "\n",
    "* Syntax\n",
    "* Text Editors\n",
    "* Programming\n",
    "* Estimating how long it takes to \"program\"\n",
    "* Standards\n",
    "\n",
    "Where do programming languages come from? How are they developed? What in the world is a \"spec\"? We'll look at these questions and others in the following topics:\n",
    "\n",
    "How HTML and CSS are developed\n",
    "How JavaScript is developed\n",
    "How Python is developed\n",
    "Version Control\n",
    "Version Control is incredibly powerful and is used by any programmer that's worth their weight. In the following sections, we'll look at what Version control is, how it works, and other parts of the version control ecosystem. The topics in this section are:\n",
    "\n",
    "Why Version Control is needed\n",
    "How Version Control works\n",
    "Where GitHub fits\n",
    "What a PR is\n",
    "Disparate Web Terms\n",
    "The web is a huge place, and not everything fits neatly into the \"front end\" or the \"back end\". There are terms that span both or terms that are tangentially related. In this section on \"Disparate Web Terms\", we'll be looking at terms and concepts that are in the world of web development but don't fit cleanly in \"front end\", \"back end\", or \"version control\". The topics in this section are:\n",
    "\n",
    "Web Requests\n",
    "Debugging\n",
    "Databases and APIs\n",
    "Markdown vs Markup\n",
    "Libraries and Frameworks\n",
    "CMS\n",
    "Command Line\n"
   ]
  },
  {
   "cell_type": "code",
   "execution_count": 26,
   "id": "fdce32e8",
   "metadata": {
    "scrolled": true
   },
   "outputs": [
    {
     "data": {
      "text/html": [
       "<iframe width=\"893\" height=\"502\" src=\"https://www.youtube.com/embed/tONa6pocXoU\" title=\"Intro 3\" frameborder=\"0\" allow=\"accelerometer; autoplay; clipboard-write; encrypted-media; gyroscope; picture-in-picture; web-share\" allowfullscreen></iframe>"
      ],
      "text/plain": [
       "<IPython.core.display.HTML object>"
      ]
     },
     "execution_count": 26,
     "metadata": {},
     "output_type": "execute_result"
    }
   ],
   "source": [
    "from IPython.display import HTML\n",
    "\n",
    "HTML('<iframe width=\"893\" height=\"502\" src=\"https://www.youtube.com/embed/tONa6pocXoU\" title=\"Intro 3\" frameborder=\"0\" allow=\"accelerometer; autoplay; clipboard-write; encrypted-media; gyroscope; picture-in-picture; web-share\" allowfullscreen></iframe>')"
   ]
  },
  {
   "cell_type": "markdown",
   "id": "b95d4d8a",
   "metadata": {},
   "source": []
  },
  {
   "cell_type": "markdown",
   "id": "238fc562",
   "metadata": {},
   "source": [
    "## Front End vs Back End"
   ]
  },
  {
   "cell_type": "code",
   "execution_count": 27,
   "id": "eaf4a9a3",
   "metadata": {
    "scrolled": true
   },
   "outputs": [
    {
     "data": {
      "text/html": [
       "<iframe width=\"573\" height=\"322\" src=\"https://www.youtube.com/embed/BiSNb2queic\" title=\"What is Frontend vs Backend?\" frameborder=\"0\" allow=\"accelerometer; autoplay; clipboard-write; encrypted-media; gyroscope; picture-in-picture; web-share\" allowfullscreen></iframe>"
      ],
      "text/plain": [
       "<IPython.core.display.HTML object>"
      ]
     },
     "execution_count": 27,
     "metadata": {},
     "output_type": "execute_result"
    }
   ],
   "source": [
    "from IPython.display import HTML\n",
    "\n",
    "HTML('<iframe width=\"573\" height=\"322\" src=\"https://www.youtube.com/embed/BiSNb2queic\" title=\"What is Frontend vs Backend?\" frameborder=\"0\" allow=\"accelerometer; autoplay; clipboard-write; encrypted-media; gyroscope; picture-in-picture; web-share\" allowfullscreen></iframe>')"
   ]
  },
  {
   "cell_type": "markdown",
   "id": "e76c27c5",
   "metadata": {},
   "source": [
    "## Front-end Languages"
   ]
  },
  {
   "cell_type": "code",
   "execution_count": 28,
   "id": "a9318ca0",
   "metadata": {
    "scrolled": true
   },
   "outputs": [
    {
     "data": {
      "text/html": [
       "<iframe width=\"573\" height=\"322\" src=\"https://www.youtube.com/embed/y3Susu1gDD4\" title=\"02 02 Web Development Languages - Front-End Languages\" frameborder=\"0\" allow=\"accelerometer; autoplay; clipboard-write; encrypted-media; gyroscope; picture-in-picture; web-share\" allowfullscreen></iframe>"
      ],
      "text/plain": [
       "<IPython.core.display.HTML object>"
      ]
     },
     "execution_count": 28,
     "metadata": {},
     "output_type": "execute_result"
    }
   ],
   "source": [
    "HTML('<iframe width=\"573\" height=\"322\" src=\"https://www.youtube.com/embed/y3Susu1gDD4\" title=\"02 02 Web Development Languages - Front-End Languages\" frameborder=\"0\" allow=\"accelerometer; autoplay; clipboard-write; encrypted-media; gyroscope; picture-in-picture; web-share\" allowfullscreen></iframe>')"
   ]
  },
  {
   "cell_type": "markdown",
   "id": "0242fe0a",
   "metadata": {},
   "source": [
    "## Back-end Languages"
   ]
  },
  {
   "cell_type": "code",
   "execution_count": 29,
   "id": "6fee6b89",
   "metadata": {},
   "outputs": [
    {
     "data": {
      "text/html": [
       "<iframe width=\"573\" height=\"322\" src=\"https://www.youtube.com/embed/waVFawLOdO0\" title=\"Web Development Languages - Back-End Languages\" frameborder=\"0\" allow=\"accelerometer; autoplay; clipboard-write; encrypted-media; gyroscope; picture-in-picture; web-share\" allowfullscreen></iframe>"
      ],
      "text/plain": [
       "<IPython.core.display.HTML object>"
      ]
     },
     "execution_count": 29,
     "metadata": {},
     "output_type": "execute_result"
    }
   ],
   "source": [
    "HTML('<iframe width=\"573\" height=\"322\" src=\"https://www.youtube.com/embed/waVFawLOdO0\" title=\"Web Development Languages - Back-End Languages\" frameborder=\"0\" allow=\"accelerometer; autoplay; clipboard-write; encrypted-media; gyroscope; picture-in-picture; web-share\" allowfullscreen></iframe>')"
   ]
  },
  {
   "cell_type": "markdown",
   "id": "da8d4f5e",
   "metadata": {},
   "source": [
    "## Syntax"
   ]
  },
  {
   "cell_type": "code",
   "execution_count": 30,
   "id": "0a934d0c",
   "metadata": {},
   "outputs": [
    {
     "data": {
      "text/html": [
       "<iframe width=\"573\" height=\"322\" src=\"https://www.youtube.com/embed/DGMvM_v4K-E\" title=\"03 01 Programming - Intro   Syntax\" frameborder=\"0\" allow=\"accelerometer; autoplay; clipboard-write; encrypted-media; gyroscope; picture-in-picture; web-share\" allowfullscreen></iframe>"
      ],
      "text/plain": [
       "<IPython.core.display.HTML object>"
      ]
     },
     "execution_count": 30,
     "metadata": {},
     "output_type": "execute_result"
    }
   ],
   "source": [
    "HTML('<iframe width=\"573\" height=\"322\" src=\"https://www.youtube.com/embed/DGMvM_v4K-E\" title=\"03 01 Programming - Intro   Syntax\" frameborder=\"0\" allow=\"accelerometer; autoplay; clipboard-write; encrypted-media; gyroscope; picture-in-picture; web-share\" allowfullscreen></iframe>')"
   ]
  },
  {
   "cell_type": "markdown",
   "id": "350dc753",
   "metadata": {},
   "source": [
    "## Text Editor"
   ]
  },
  {
   "cell_type": "code",
   "execution_count": 31,
   "id": "599acdad",
   "metadata": {},
   "outputs": [
    {
     "data": {
      "text/html": [
       "<iframe width=\"573\" height=\"322\" src=\"https://www.youtube.com/embed/ECKqPx66m8M\" title=\"03 02 Programming - Text Editors\" frameborder=\"0\" allow=\"accelerometer; autoplay; clipboard-write; encrypted-media; gyroscope; picture-in-picture; web-share\" allowfullscreen></iframe>"
      ],
      "text/plain": [
       "<IPython.core.display.HTML object>"
      ]
     },
     "execution_count": 31,
     "metadata": {},
     "output_type": "execute_result"
    }
   ],
   "source": [
    "HTML('<iframe width=\"573\" height=\"322\" src=\"https://www.youtube.com/embed/ECKqPx66m8M\" title=\"03 02 Programming - Text Editors\" frameborder=\"0\" allow=\"accelerometer; autoplay; clipboard-write; encrypted-media; gyroscope; picture-in-picture; web-share\" allowfullscreen></iframe>')"
   ]
  },
  {
   "cell_type": "markdown",
   "id": "d84dfcbc",
   "metadata": {},
   "source": [
    "## Programming"
   ]
  },
  {
   "cell_type": "code",
   "execution_count": 32,
   "id": "ef7e96ae",
   "metadata": {},
   "outputs": [
    {
     "data": {
      "text/html": [
       "<iframe width=\"573\" height=\"322\" src=\"https://www.youtube.com/embed/_14XVs_6M3U\" title=\"03 03 Programming - Programming\" frameborder=\"0\" allow=\"accelerometer; autoplay; clipboard-write; encrypted-media; gyroscope; picture-in-picture; web-share\" allowfullscreen></iframe>"
      ],
      "text/plain": [
       "<IPython.core.display.HTML object>"
      ]
     },
     "execution_count": 32,
     "metadata": {},
     "output_type": "execute_result"
    }
   ],
   "source": [
    "HTML('<iframe width=\"573\" height=\"322\" src=\"https://www.youtube.com/embed/_14XVs_6M3U\" title=\"03 03 Programming - Programming\" frameborder=\"0\" allow=\"accelerometer; autoplay; clipboard-write; encrypted-media; gyroscope; picture-in-picture; web-share\" allowfullscreen></iframe>')"
   ]
  },
  {
   "cell_type": "markdown",
   "id": "c8247895",
   "metadata": {},
   "source": [
    "## Estimating Time to Complete\n",
    "\n",
    "Programming can be a challenging profession in that actually programming is a journey of discovery.\n",
    "\n",
    "When a programmer starts working on something, they don't just sit down, open up an empty file, and code everything perfectly from start to finish. Things come up that stop the developer from proceeding. There could be a syntax error that they have to stop and fix, or a bigger problem that needs resolving, or perhaps the code functions correctly, but doesn't do what the developer expected it to do. In this last case, the code is written accurately, but the logic is incorrect (meaning the ordered set of steps that the code follows doesn't do what the developer thought it would). All of these things require the developer to stop and address them.\n",
    "\n",
    "As you can see, there's a lot of trial and error in getting to the end result. Now, the more senior a developer is, the fewer mistakes they make and/or the faster they are able to diagnose and resolve the issues. But even an expert will encounter issues that will take them some time to resolve.\n",
    "\n",
    "But these issues are a large part of becoming an expert! You learn a lot more from your mistakes than you do from your successes!\n",
    "\n"
   ]
  },
  {
   "cell_type": "code",
   "execution_count": 33,
   "id": "78ec5e3d",
   "metadata": {},
   "outputs": [
    {
     "data": {
      "text/html": [
       "<iframe width=\"573\" height=\"322\" src=\"https://www.youtube.com/embed/gm-BCop-Lbc\" title=\"03 04 Programming - Estimating Time To Complete   Summary\" frameborder=\"0\" allow=\"accelerometer; autoplay; clipboard-write; encrypted-media; gyroscope; picture-in-picture; web-share\" allowfullscreen></iframe>"
      ],
      "text/plain": [
       "<IPython.core.display.HTML object>"
      ]
     },
     "execution_count": 33,
     "metadata": {},
     "output_type": "execute_result"
    }
   ],
   "source": [
    "HTML('<iframe width=\"573\" height=\"322\" src=\"https://www.youtube.com/embed/gm-BCop-Lbc\" title=\"03 04 Programming - Estimating Time To Complete   Summary\" frameborder=\"0\" allow=\"accelerometer; autoplay; clipboard-write; encrypted-media; gyroscope; picture-in-picture; web-share\" allowfullscreen></iframe>')"
   ]
  },
  {
   "cell_type": "markdown",
   "id": "5d78ae33",
   "metadata": {},
   "source": [
    "## Developing HTML & CSS"
   ]
  },
  {
   "cell_type": "code",
   "execution_count": 34,
   "id": "4d367f61",
   "metadata": {},
   "outputs": [
    {
     "data": {
      "text/html": [
       "<iframe width=\"573\" height=\"322\" src=\"https://www.youtube.com/embed/QmllknZw8C4\" title=\"Intro to Development of HTML &amp; CSS\" frameborder=\"0\" allow=\"accelerometer; autoplay; clipboard-write; encrypted-media; gyroscope; picture-in-picture; web-share\" allowfullscreen></iframe>"
      ],
      "text/plain": [
       "<IPython.core.display.HTML object>"
      ]
     },
     "execution_count": 34,
     "metadata": {},
     "output_type": "execute_result"
    }
   ],
   "source": [
    "HTML('<iframe width=\"573\" height=\"322\" src=\"https://www.youtube.com/embed/QmllknZw8C4\" title=\"Intro to Development of HTML &amp; CSS\" frameborder=\"0\" allow=\"accelerometer; autoplay; clipboard-write; encrypted-media; gyroscope; picture-in-picture; web-share\" allowfullscreen></iframe>')"
   ]
  },
  {
   "cell_type": "markdown",
   "id": "d1ed85ae",
   "metadata": {},
   "source": [
    "## Developing Java Script"
   ]
  },
  {
   "cell_type": "code",
   "execution_count": 35,
   "id": "78f3e6c8",
   "metadata": {},
   "outputs": [
    {
     "data": {
      "text/html": [
       "<iframe width=\"573\" height=\"322\" src=\"https://www.youtube.com/embed/rO_tcfbrPVc\" title=\"04 02 Standards - Development Of JavaScript\" frameborder=\"0\" allow=\"accelerometer; autoplay; clipboard-write; encrypted-media; gyroscope; picture-in-picture; web-share\" allowfullscreen></iframe>"
      ],
      "text/plain": [
       "<IPython.core.display.HTML object>"
      ]
     },
     "execution_count": 35,
     "metadata": {},
     "output_type": "execute_result"
    }
   ],
   "source": [
    "HTML('<iframe width=\"573\" height=\"322\" src=\"https://www.youtube.com/embed/rO_tcfbrPVc\" title=\"04 02 Standards - Development Of JavaScript\" frameborder=\"0\" allow=\"accelerometer; autoplay; clipboard-write; encrypted-media; gyroscope; picture-in-picture; web-share\" allowfullscreen></iframe>')"
   ]
  },
  {
   "cell_type": "markdown",
   "id": "4ffaca82",
   "metadata": {},
   "source": [
    "## Developing Python"
   ]
  },
  {
   "cell_type": "code",
   "execution_count": 36,
   "id": "f9328964",
   "metadata": {},
   "outputs": [
    {
     "data": {
      "text/html": [
       "<iframe width=\"573\" height=\"322\" src=\"https://www.youtube.com/embed/2OWZLRmeAo4\" title=\"04 03 Standards - Development Of Python   Summary\" frameborder=\"0\" allow=\"accelerometer; autoplay; clipboard-write; encrypted-media; gyroscope; picture-in-picture; web-share\" allowfullscreen></iframe>"
      ],
      "text/plain": [
       "<IPython.core.display.HTML object>"
      ]
     },
     "execution_count": 36,
     "metadata": {},
     "output_type": "execute_result"
    }
   ],
   "source": [
    "HTML('<iframe width=\"573\" height=\"322\" src=\"https://www.youtube.com/embed/2OWZLRmeAo4\" title=\"04 03 Standards - Development Of Python   Summary\" frameborder=\"0\" allow=\"accelerometer; autoplay; clipboard-write; encrypted-media; gyroscope; picture-in-picture; web-share\" allowfullscreen></iframe>')"
   ]
  },
  {
   "cell_type": "markdown",
   "id": "d50ef38e",
   "metadata": {},
   "source": [
    "## Why Version Control is Needed\n",
    "\n",
    "**Lost Work**\n",
    "A developer will work on potentially hundreds of files in a week. They'll be making changes all over the place...and after a couple of minutes, they'll forget which files they've changed and which lines of code they changed in those files.\n",
    "\n",
    "After making a number of changes across the codebase, they encounter some roadblock and need to undo the changes they've made. But since there are so many files and so many intricate changes to these files, it makes it extremely difficult to undo these changes.\n",
    "\n",
    "And what about the scenario where, instead of undoing all of the changes they've made, they only need to undo some of the changes? This can be quite a bit more challenging to maintain a project where changes are made and then only some are reverted. The developer doesn't want to lose all of the work they've done.\n",
    "\n",
    "**VCS = Save Button**\n",
    "A Version Control System (VCS) is a system that is designed to help a developer maintain different versions of their work. Basically, you can think of a VCS as a save button for any kind of file.\n",
    "\n",
    "Some of the most common VCSes are:\n",
    "\n",
    "* Git\n",
    "* SVN\n",
    "* Mercurial\n",
    "...with the most popular version control system being Git."
   ]
  },
  {
   "cell_type": "code",
   "execution_count": 56,
   "id": "d777e4ac",
   "metadata": {},
   "outputs": [
    {
     "data": {
      "text/html": [
       "<div align=\"center\"><iframe width=\"573\" height=\"322\" src=\"https://www.youtube.com/embed/oIWa7TOmZ4Y\" title=\"05 01 Version Control - Intro   Why Version Control Is Needed\" frameborder=\"0\" allow=\"accelerometer; autoplay; clipboard-write; encrypted-media; gyroscope; picture-in-picture; web-share\" allowfullscreen></iframe>"
      ],
      "text/plain": [
       "<IPython.core.display.HTML object>"
      ]
     },
     "execution_count": 56,
     "metadata": {},
     "output_type": "execute_result"
    }
   ],
   "source": [
    "HTML('<div align=\"center\"><iframe width=\"573\" height=\"322\" src=\"https://www.youtube.com/embed/oIWa7TOmZ4Y\" title=\"05 01 Version Control - Intro   Why Version Control Is Needed\" frameborder=\"0\" allow=\"accelerometer; autoplay; clipboard-write; encrypted-media; gyroscope; picture-in-picture; web-share\" allowfullscreen></iframe>')"
   ]
  },
  {
   "cell_type": "markdown",
   "id": "c577b517",
   "metadata": {},
   "source": [
    "## How Version Control Works"
   ]
  },
  {
   "cell_type": "code",
   "execution_count": 57,
   "id": "877f4e9d",
   "metadata": {},
   "outputs": [
    {
     "data": {
      "text/html": [
       "<div align=\"center\"><iframe width=\"573\" height=\"322\" src=\"https://www.youtube.com/embed/mEhiHSyRy_s\" title=\"05 02 Version Control - How Version Control Works\" frameborder=\"0\" allow=\"accelerometer; autoplay; clipboard-write; encrypted-media; gyroscope; picture-in-picture; web-share\" allowfullscreen></iframe>"
      ],
      "text/plain": [
       "<IPython.core.display.HTML object>"
      ]
     },
     "execution_count": 57,
     "metadata": {},
     "output_type": "execute_result"
    }
   ],
   "source": [
    "HTML('<div align=\"center\"><iframe width=\"573\" height=\"322\" src=\"https://www.youtube.com/embed/mEhiHSyRy_s\" title=\"05 02 Version Control - How Version Control Works\" frameborder=\"0\" allow=\"accelerometer; autoplay; clipboard-write; encrypted-media; gyroscope; picture-in-picture; web-share\" allowfullscreen></iframe>')"
   ]
  },
  {
   "cell_type": "markdown",
   "id": "c5bd69dd",
   "metadata": {},
   "source": [
    "## Version Control\n",
    "\n",
    "**Git ≠ GitHub**\n",
    "Even though Git is in the name \"GitHub\", Git and GitHub are very different.\n",
    "\n",
    "Git is the tool that is installed locally on a computer. A developer would then use the Git tool on their local machine to manage the local Git repository.\n",
    "\n",
    "Compare that with GitHub which is a hosting and collaboration service. GitHub is a hosting service in that it lets you store your local Git repository up on GitHub. Once it's stored with GitHub, you can then share the link to your Git project on GitHub with other developers."
   ]
  },
  {
   "cell_type": "code",
   "execution_count": 61,
   "id": "7b4c24ab",
   "metadata": {},
   "outputs": [
    {
     "data": {
      "text/html": [
       "<div align=\"center\"><iframe width=\"573\" height=\"322\" src=\"https://www.youtube.com/embed/ij4BlUlQDQo\" title=\"05 03 Version Control - Where GitHub Fits In\" frameborder=\"0\" allow=\"accelerometer; autoplay; clipboard-write; encrypted-media; gyroscope; picture-in-picture; web-share\" allowfullscreen></iframe>"
      ],
      "text/plain": [
       "<IPython.core.display.HTML object>"
      ]
     },
     "execution_count": 61,
     "metadata": {},
     "output_type": "execute_result"
    }
   ],
   "source": [
    "HTML('<div align=\"center\"><iframe width=\"573\" height=\"322\" src=\"https://www.youtube.com/embed/ij4BlUlQDQo\" title=\"05 03 Version Control - Where GitHub Fits In\" frameborder=\"0\" allow=\"accelerometer; autoplay; clipboard-write; encrypted-media; gyroscope; picture-in-picture; web-share\" allowfullscreen></iframe>')"
   ]
  },
  {
   "cell_type": "markdown",
   "id": "c5fb1d71",
   "metadata": {},
   "source": [
    "## What is PR\n",
    "\n",
    "**A \"PR\"**\n",
    "PR stands for \"pull request\". Let's look at exactly what a pull request is and why PRs are so common.\n",
    "\n",
    "**Git + GitHub = Collaboration**\n",
    "In the previous section, we looked at how GitHub is a hosting and collaboration service. Since GitHub is a hosting service, we can use it to store a local Git repository. Once the Git repository is stored with GitHub, you can then share the link to your Git project on GitHub with other developers. These other developers can use GitHub to get a copy of the project, make changes to it, and share those changes back.\n",
    "\n",
    "Let's work through a scenario. I am working on a project and saving my code to my local Git repository. I have two friends, Wael and Nidhi, and I want their help on some of the code. I share my project up on GitHub and send them the link to it. Nidhi copies the project to her GitHub account, then copies it to her computer and makes three changes to it. She uploads her changes to the copy on her GitHub account. Since she doesn't have access to _my_ GitHub account, she sends me a request to pull in (a Pull Request!) the changes she made to _my_ original repository…which I do.\n",
    "\n",
    "Then Wael finally decides he's got some additions he can contribute, so he makes a copy of my Git project on GitHub (which includes the changes that Nidhi made!). He copies the Git project to his own GitHub account, copies it down to his computer, makes some changes, uploads it back to his GitHub, and sends me a PR (pull request) to include his changes into my original repository."
   ]
  },
  {
   "cell_type": "code",
   "execution_count": 62,
   "id": "b5f5a7f2",
   "metadata": {},
   "outputs": [
    {
     "data": {
      "text/html": [
       "<div align=\"center\"><iframe width=\"573\" height=\"322\" src=\"https://www.youtube.com/embed/d-wuHYOy1Ys\" title=\"05 04 Version Control - What A PR Is   Summary\" frameborder=\"0\" allow=\"accelerometer; autoplay; clipboard-write; encrypted-media; gyroscope; picture-in-picture; web-share\" allowfullscreen></iframe>"
      ],
      "text/plain": [
       "<IPython.core.display.HTML object>"
      ]
     },
     "execution_count": 62,
     "metadata": {},
     "output_type": "execute_result"
    }
   ],
   "source": [
    "HTML('<div align=\"center\"><iframe width=\"573\" height=\"322\" src=\"https://www.youtube.com/embed/d-wuHYOy1Ys\" title=\"05 04 Version Control - What A PR Is   Summary\" frameborder=\"0\" allow=\"accelerometer; autoplay; clipboard-write; encrypted-media; gyroscope; picture-in-picture; web-share\" allowfullscreen></iframe>')"
   ]
  },
  {
   "cell_type": "markdown",
   "id": "9a025153",
   "metadata": {},
   "source": [
    "## Web Requests"
   ]
  },
  {
   "cell_type": "code",
   "execution_count": 63,
   "id": "fbdeff8d",
   "metadata": {},
   "outputs": [
    {
     "data": {
      "text/html": [
       "<div align=\"center\"><iframe width=\"573\" height=\"322\" src=\"https://www.youtube.com/embed/RgBCQCUA85U\" title=\"06 01 Disparate Web Terms - Intro   Web Requests\" frameborder=\"0\" allow=\"accelerometer; autoplay; clipboard-write; encrypted-media; gyroscope; picture-in-picture; web-share\" allowfullscreen></iframe>"
      ],
      "text/plain": [
       "<IPython.core.display.HTML object>"
      ]
     },
     "execution_count": 63,
     "metadata": {},
     "output_type": "execute_result"
    }
   ],
   "source": [
    "HTML('<div align=\"center\"><iframe width=\"573\" height=\"322\" src=\"https://www.youtube.com/embed/RgBCQCUA85U\" title=\"06 01 Disparate Web Terms - Intro   Web Requests\" frameborder=\"0\" allow=\"accelerometer; autoplay; clipboard-write; encrypted-media; gyroscope; picture-in-picture; web-share\" allowfullscreen></iframe>')"
   ]
  },
  {
   "cell_type": "markdown",
   "id": "26e0ccb1",
   "metadata": {},
   "source": [
    "## Debugging"
   ]
  },
  {
   "cell_type": "code",
   "execution_count": 64,
   "id": "dfae16b6",
   "metadata": {},
   "outputs": [
    {
     "data": {
      "text/html": [
       "<div align=\"center\"><iframe width=\"573\" height=\"322\" src=\"https://www.youtube.com/embed/Zyi3gU9Vixg\" title=\"06 02 Disparate Web Terms - Debugging\" frameborder=\"0\" allow=\"accelerometer; autoplay; clipboard-write; encrypted-media; gyroscope; picture-in-picture; web-share\" allowfullscreen></iframe>"
      ],
      "text/plain": [
       "<IPython.core.display.HTML object>"
      ]
     },
     "execution_count": 64,
     "metadata": {},
     "output_type": "execute_result"
    }
   ],
   "source": [
    "HTML('<div align=\"center\"><iframe width=\"573\" height=\"322\" src=\"https://www.youtube.com/embed/Zyi3gU9Vixg\" title=\"06 02 Disparate Web Terms - Debugging\" frameborder=\"0\" allow=\"accelerometer; autoplay; clipboard-write; encrypted-media; gyroscope; picture-in-picture; web-share\" allowfullscreen></iframe>')"
   ]
  },
  {
   "cell_type": "markdown",
   "id": "9ca0e334",
   "metadata": {},
   "source": [
    "## Databases & APIs"
   ]
  },
  {
   "cell_type": "code",
   "execution_count": 65,
   "id": "2759586f",
   "metadata": {},
   "outputs": [
    {
     "data": {
      "text/html": [
       "<div align=\"center\"><iframe width=\"573\" height=\"322\" src=\"https://www.youtube.com/embed/5s2gEp6-HzE\" title=\"06 03 Disparate Web Terms - Databases   APIs\" frameborder=\"0\" allow=\"accelerometer; autoplay; clipboard-write; encrypted-media; gyroscope; picture-in-picture; web-share\" allowfullscreen></iframe>"
      ],
      "text/plain": [
       "<IPython.core.display.HTML object>"
      ]
     },
     "execution_count": 65,
     "metadata": {},
     "output_type": "execute_result"
    }
   ],
   "source": [
    "HTML('<div align=\"center\"><iframe width=\"573\" height=\"322\" src=\"https://www.youtube.com/embed/5s2gEp6-HzE\" title=\"06 03 Disparate Web Terms - Databases   APIs\" frameborder=\"0\" allow=\"accelerometer; autoplay; clipboard-write; encrypted-media; gyroscope; picture-in-picture; web-share\" allowfullscreen></iframe>')"
   ]
  },
  {
   "attachments": {},
   "cell_type": "markdown",
   "id": "4ccb10a7",
   "metadata": {},
   "source": [
    "## Markdown vs Markup\n",
    "\n"
   ]
  },
  {
   "cell_type": "code",
   "execution_count": 70,
   "id": "c6b18e17",
   "metadata": {},
   "outputs": [
    {
     "data": {
      "text/html": [
       "<div align=\"center\"><iframe width=\"573\" height=\"322\" src=\"https://www.youtube.com/embed/YCSMJfLmryI\" title=\"06 04 Disparate Web Terms - Markdown Vs Markup\" frameborder=\"0\" allow=\"accelerometer; autoplay; clipboard-write; encrypted-media; gyroscope; picture-in-picture; web-share\" allowfullscreen></iframe>"
      ],
      "text/plain": [
       "<IPython.core.display.HTML object>"
      ]
     },
     "execution_count": 70,
     "metadata": {},
     "output_type": "execute_result"
    }
   ],
   "source": [
    "HTML('<div align=\"center\"><iframe width=\"573\" height=\"322\" src=\"https://www.youtube.com/embed/YCSMJfLmryI\" title=\"06 04 Disparate Web Terms - Markdown Vs Markup\" frameborder=\"0\" allow=\"accelerometer; autoplay; clipboard-write; encrypted-media; gyroscope; picture-in-picture; web-share\" allowfullscreen></iframe>')"
   ]
  },
  {
   "cell_type": "markdown",
   "id": "6fe6b4f0",
   "metadata": {},
   "source": [
    "## Libraries & Frameworks"
   ]
  },
  {
   "cell_type": "code",
   "execution_count": 67,
   "id": "8e822a0b",
   "metadata": {},
   "outputs": [
    {
     "data": {
      "text/html": [
       "<div align=\"center\"><iframe width=\"573\" height=\"322\" src=\"https://www.youtube.com/embed/iynw_DofIM4\" title=\"06 05 Disparate Web Terms - Libraries   Frameworks\" frameborder=\"0\" allow=\"accelerometer; autoplay; clipboard-write; encrypted-media; gyroscope; picture-in-picture; web-share\" allowfullscreen></iframe>"
      ],
      "text/plain": [
       "<IPython.core.display.HTML object>"
      ]
     },
     "execution_count": 67,
     "metadata": {},
     "output_type": "execute_result"
    }
   ],
   "source": [
    "HTML('<div align=\"center\"><iframe width=\"573\" height=\"322\" src=\"https://www.youtube.com/embed/iynw_DofIM4\" title=\"06 05 Disparate Web Terms - Libraries   Frameworks\" frameborder=\"0\" allow=\"accelerometer; autoplay; clipboard-write; encrypted-media; gyroscope; picture-in-picture; web-share\" allowfullscreen></iframe>')"
   ]
  },
  {
   "cell_type": "markdown",
   "id": "03ff7b7e",
   "metadata": {},
   "source": [
    "## CMS\n",
    "\n",
    "A CMS (Content Management System) is a fully-built solution for managing content that can be used immediately. It’s typically written in a backend language, but the user don’t need to know how to code in order to use it. CMSes make it easy to manage blogs and websites.\n",
    "\n",
    "CMS Examples:\n",
    "\n",
    "* WordPress\n",
    "* Magento\n",
    "* Drupal\n",
    "* Joomla\n",
    "* django CMS\n",
    "* ghost"
   ]
  },
  {
   "cell_type": "code",
   "execution_count": 68,
   "id": "649a2ccc",
   "metadata": {},
   "outputs": [
    {
     "data": {
      "text/html": [
       "<div align=\"center\"><iframe width=\"573\" height=\"322\" src=\"https://www.youtube.com/embed/teusKKOOcx4\" title=\"06 07 Disparate Web Terms - Command Line   Summary\" frameborder=\"0\" allow=\"accelerometer; autoplay; clipboard-write; encrypted-media; gyroscope; picture-in-picture; web-share\" allowfullscreen></iframe>"
      ],
      "text/plain": [
       "<IPython.core.display.HTML object>"
      ]
     },
     "execution_count": 68,
     "metadata": {},
     "output_type": "execute_result"
    }
   ],
   "source": [
    "HTML('<div align=\"center\"><iframe width=\"573\" height=\"322\" src=\"https://www.youtube.com/embed/teusKKOOcx4\" title=\"06 07 Disparate Web Terms - Command Line   Summary\" frameborder=\"0\" allow=\"accelerometer; autoplay; clipboard-write; encrypted-media; gyroscope; picture-in-picture; web-share\" allowfullscreen></iframe>')"
   ]
  },
  {
   "attachments": {
    "ud994-command-line.jpg": {
     "image/jpeg": "[encoded data removed]"
    }
   },
   "cell_type": "markdown",
   "id": "a6b85389",
   "metadata": {},
   "source": [
    "## The Command Line\n",
    "\n",
    "A command line is a tool for controlling your computer. When you type commands into the prompt, those commands are run by your computer’s operating system and their output is shown.\n",
    "\n",
    "Screenshot of the iTerm command line application\n",
    "\n",
    "\n",
    "![ud994-command-line.jpg](attachment:ud994-command-line.jpg)\n",
    "\n",
    "\n",
    "This is what I've configured my command line to look like.\n",
    "\n",
    "As it is with all programming, you cannot just type anything into the command line and expect your computer to understand what you’d like it to do.\n",
    "\n",
    "Commands are the language of the command line. For example:\n",
    "\n",
    "- ls (prints the content of the current directory)\n",
    "- cd (change the directory)\n",
    "- pwd (print working directory)\n",
    "- mkdir (make a new directory)\n",
    "- cat (read the file(s) and output the content of the file(s))\n",
    "- echo (prints the input)\n",
    "- curl (let’s you request or send files using a URL via different internet protocols, including HTTP and HTTPS.)\n",
    "\n",
    "If the command line does not understand the command you’ve given, it will show you an error message to let you know.\n",
    "\n",
    "Commands allows you to interact with files and directories and run programs without doing much typing."
   ]
  },
  {
   "cell_type": "code",
   "execution_count": 69,
   "id": "5936c6d9",
   "metadata": {},
   "outputs": [
    {
     "data": {
      "text/html": [
       "<div align=\"center\"><iframe width=\"573\" height=\"322\" src=\"https://www.youtube.com/embed/teusKKOOcx4\" title=\"06 07 Disparate Web Terms - Command Line   Summary\" frameborder=\"0\" allow=\"accelerometer; autoplay; clipboard-write; encrypted-media; gyroscope; picture-in-picture; web-share\" allowfullscreen></iframe>"
      ],
      "text/plain": [
       "<IPython.core.display.HTML object>"
      ]
     },
     "execution_count": 69,
     "metadata": {},
     "output_type": "execute_result"
    }
   ],
   "source": [
    "HTML('<div align=\"center\"><iframe width=\"573\" height=\"322\" src=\"https://www.youtube.com/embed/teusKKOOcx4\" title=\"06 07 Disparate Web Terms - Command Line   Summary\" frameborder=\"0\" allow=\"accelerometer; autoplay; clipboard-write; encrypted-media; gyroscope; picture-in-picture; web-share\" allowfullscreen></iframe>')"
   ]
  },
  {
   "cell_type": "markdown",
   "id": "254ff836",
   "metadata": {},
   "source": [
    "# Outro"
   ]
  },
  {
   "cell_type": "code",
   "execution_count": 58,
   "id": "fcc9fbdb",
   "metadata": {},
   "outputs": [
    {
     "data": {
      "text/html": [
       "<div align=\"center\"><iframe width=\"573\" height=\"322\" src=\"https://www.youtube.com/embed/ZgOzhs9J-Ks\" title=\"Outro 1\" frameborder=\"0\" allow=\"accelerometer; autoplay; clipboard-write; encrypted-media; gyroscope; picture-in-picture; web-share\" allowfullscreen></iframe>"
      ],
      "text/plain": [
       "<IPython.core.display.HTML object>"
      ]
     },
     "execution_count": 58,
     "metadata": {},
     "output_type": "execute_result"
    }
   ],
   "source": [
    "HTML('<div align=\"center\"><iframe width=\"573\" height=\"322\" src=\"https://www.youtube.com/embed/ZgOzhs9J-Ks\" title=\"Outro 1\" frameborder=\"0\" allow=\"accelerometer; autoplay; clipboard-write; encrypted-media; gyroscope; picture-in-picture; web-share\" allowfullscreen></iframe>')"
   ]
  },
  {
   "cell_type": "markdown",
   "id": "6c602923",
   "metadata": {},
   "source": [
    "# Introduction to Python Programming Course"
   ]
  },
  {
   "cell_type": "markdown",
   "id": "6dbd413d",
   "metadata": {},
   "source": [
    "## Welcome to Introduction to Python!\n",
    "\n",
    "In this course, we use Python version 3 (or simply Python 3). If you'd like more details on previous versions of Python and how version 3 differs from previous versions, check out the [History of Python](https://en.wikipedia.org/wiki/History_of_Python) on Wikipedia. If you're new to Python or programming in general, this article will make more sense after you've completed a lesson or two, so you may want to hold off for now. All you need to know now is that your solution code for the programming exercises in this course will be graded based on Python 3 code.\n",
    "\n"
   ]
  },
  {
   "cell_type": "code",
   "execution_count": 59,
   "id": "bfb492b7",
   "metadata": {
    "scrolled": true
   },
   "outputs": [
    {
     "data": {
      "text/html": [
       "<div align=\"center\"><iframe width=\"573\" height=\"322\" src=\"https://www.youtube.com/embed/yyNtiUyI5Tw\" title=\"L1 01 소개 V3\" frameborder=\"0\" allow=\"accelerometer; autoplay; clipboard-write; encrypted-media; gyroscope; picture-in-picture; web-share\" allowfullscreen></iframe>"
      ],
      "text/plain": [
       "<IPython.core.display.HTML object>"
      ]
     },
     "execution_count": 59,
     "metadata": {},
     "output_type": "execute_result"
    }
   ],
   "source": [
    "from IPython.display import HTML\n",
    "\n",
    "HTML('<div align=\"center\"><iframe width=\"573\" height=\"322\" src=\"https://www.youtube.com/embed/yyNtiUyI5Tw\" title=\"L1 01 소개 V3\" frameborder=\"0\" allow=\"accelerometer; autoplay; clipboard-write; encrypted-media; gyroscope; picture-in-picture; web-share\" allowfullscreen></iframe>')"
   ]
  },
  {
   "cell_type": "markdown",
   "id": "8836950e",
   "metadata": {},
   "source": [
    "### Programming in Python\n",
    "As you learn Python throughout this course, there are a few things you should keep in mind.\n",
    "\n",
    "1. Python is case sensitive.\n",
    "2. Spacing is important.\n",
    "3. Use error messages to help you learn.\n",
    "\n",
    "Let’s get started!"
   ]
  },
  {
   "cell_type": "code",
   "execution_count": 60,
   "id": "da4ff5c3",
   "metadata": {},
   "outputs": [
    {
     "data": {
      "text/html": [
       "<div align=\"center\"><iframe width=\"573\" height=\"322\" src=\"https://www.youtube.com/embed/O1cTNYAjeeg\" title=\"L1 03 Python V4 프로그래밍\" frameborder=\"0\" allow=\"accelerometer; autoplay; clipboard-write; encrypted-media; gyroscope; picture-in-picture; web-share\" allowfullscreen></iframe>"
      ],
      "text/plain": [
       "<IPython.core.display.HTML object>"
      ]
     },
     "execution_count": 60,
     "metadata": {},
     "output_type": "execute_result"
    }
   ],
   "source": [
    "HTML('<div align=\"center\"><iframe width=\"573\" height=\"322\" src=\"https://www.youtube.com/embed/O1cTNYAjeeg\" title=\"L1 03 Python V4 프로그래밍\" frameborder=\"0\" allow=\"accelerometer; autoplay; clipboard-write; encrypted-media; gyroscope; picture-in-picture; web-share\" allowfullscreen></iframe>')"
   ]
  },
  {
   "cell_type": "markdown",
   "id": "f97d5ae9",
   "metadata": {},
   "source": [
    "## Data Types and Operators\n",
    "Welcome to this lesson on Data Types and Operators! You'll learn about:\n",
    "\n",
    "- Data Types: Integers, Floats, Booleans, Strings\n",
    "- Operators: Arithmetic, Assignment, Comparison, Logical\n",
    "- Built-In Functions, Type Conversion\n",
    "- Whitespace and Style Guidelines"
   ]
  },
  {
   "cell_type": "markdown",
   "id": "2c67985a",
   "metadata": {},
   "source": [
    "### Arithmetic operators\n",
    "\n",
    "- (+) Addition\n",
    "- (-) Subtraction\n",
    "- (*) Multiplication\n",
    "- / Division\n",
    "- % Mod (the remainder after dividing)\n",
    "- ** Exponentiation (note that ^ does not do this operation, as you might have seen in other languages)\n",
    "- // Divides and rounds down to the nearest integer\n",
    "\n",
    "The usual order of mathematical operations holds in Python, which you can review in this Math Forum page if needed.\n",
    "\n",
    "Examples\n",
    "\n",
    "- print(3 + 5) # 8\n",
    "- print(1 + 2 + 3 * 3) # 12\n",
    "- print(3 ** 2) # 9\n",
    "- print(9 % 2) # 1\n"
   ]
  },
  {
   "cell_type": "markdown",
   "id": "d5f159c0",
   "metadata": {},
   "source": [
    "### Quiz: Average Electricity Bill\n",
    "\n",
    "It's time to try a calculation in Python!\n",
    "\n",
    "My electricity bills for the last three months have been $23, $32 and $64. What is the average monthly electricity bill over the three month period? Write an expression to calculate the mean, and use print() to view the result."
   ]
  },
  {
   "cell_type": "code",
   "execution_count": 51,
   "id": "b09a1da8",
   "metadata": {},
   "outputs": [
    {
     "name": "stdout",
     "output_type": "stream",
     "text": [
      "39.666666666666664\n"
     ]
    }
   ],
   "source": [
    "# Write an expression that calculates the average of 23, 32 and 64\n",
    "# Place the expression in this print statement\n",
    "print((23+32+64)/3)"
   ]
  },
  {
   "cell_type": "markdown",
   "id": "6b925664",
   "metadata": {},
   "source": [
    "### Quiz: Calculate\n",
    "\n",
    "In this quiz you're going to do some calculations for a tiler. Two parts of a floor need tiling. One part is 9 tiles wide by 7 tiles long, the other is 5 tiles wide by 7 tiles long. Tiles come in packages of 6.\n",
    "\n",
    "1. How many tiles are needed?\n",
    "2. You buy 17 packages of tiles containing 6 tiles each. How many tiles will be left over?"
   ]
  },
  {
   "cell_type": "code",
   "execution_count": 52,
   "id": "48e4af7e",
   "metadata": {},
   "outputs": [
    {
     "name": "stdout",
     "output_type": "stream",
     "text": [
      "98\n",
      "4\n"
     ]
    }
   ],
   "source": [
    "# Fill this in with an expression that calculates how many tiles are needed.\n",
    "print((9*7)+(5*7))\n",
    "\n",
    "# Fill this in with an expression that calculates how many tiles will be left over.\n",
    "print(17*6-98)"
   ]
  },
  {
   "cell_type": "markdown",
   "id": "1c22922a",
   "metadata": {},
   "source": [
    "### Variables and Assignment Operators\n",
    "From this page, you will get your first look at variables in Python. There are three videos in this concept to show you some different cases you might run into!"
   ]
  },
  {
   "cell_type": "code",
   "execution_count": 53,
   "id": "3f7df500",
   "metadata": {},
   "outputs": [
    {
     "data": {
      "text/html": [
       "<iframe width=\"573\" height=\"322\" src=\"https://www.youtube.com/embed/7pxpUot4x0w\" title=\"변수\" frameborder=\"0\" allow=\"accelerometer; autoplay; clipboard-write; encrypted-media; gyroscope; picture-in-picture; web-share\" allowfullscreen></iframe>"
      ],
      "text/plain": [
       "<IPython.core.display.HTML object>"
      ]
     },
     "execution_count": 53,
     "metadata": {},
     "output_type": "execute_result"
    }
   ],
   "source": [
    "HTML('<iframe width=\"573\" height=\"322\" src=\"https://www.youtube.com/embed/7pxpUot4x0w\" title=\"변수\" frameborder=\"0\" allow=\"accelerometer; autoplay; clipboard-write; encrypted-media; gyroscope; picture-in-picture; web-share\" allowfullscreen></iframe>')"
   ]
  },
  {
   "cell_type": "markdown",
   "id": "6d6131e4",
   "metadata": {},
   "source": [
    "### Variables I\n",
    "Variables are used all the time in Python! Below is the example you saw in the video where we performed the following:\n",
    "\n",
    "mv_population = 74728\n",
    "\n",
    "Here mv_population is a variable, which holds the value of 74728. This assigns the item on the right to the name on the left, which is actually a little different than mathematical equality, as 74728 does not hold the value of mv_population.\n",
    "\n",
    "In any case, whatever term is on the left side, is now a name for whatever value is on the right side. Once a value has been assigned to a variable name, you can access the value from the variable name."
   ]
  },
  {
   "cell_type": "code",
   "execution_count": 54,
   "id": "bc4d7fea",
   "metadata": {},
   "outputs": [
    {
     "data": {
      "text/html": [
       "<iframe width=\"573\" height=\"322\" src=\"https://www.youtube.com/embed/4IJqbP8vi6A\" title=\"L2 04b 변수 II V3\" frameborder=\"0\" allow=\"accelerometer; autoplay; clipboard-write; encrypted-media; gyroscope; picture-in-picture; web-share\" allowfullscreen></iframe>"
      ],
      "text/plain": [
       "<IPython.core.display.HTML object>"
      ]
     },
     "execution_count": 54,
     "metadata": {},
     "output_type": "execute_result"
    }
   ],
   "source": [
    "HTML('<iframe width=\"573\" height=\"322\" src=\"https://www.youtube.com/embed/4IJqbP8vi6A\" title=\"L2 04b 변수 II V3\" frameborder=\"0\" allow=\"accelerometer; autoplay; clipboard-write; encrypted-media; gyroscope; picture-in-picture; web-share\" allowfullscreen></iframe>')"
   ]
  },
  {
   "cell_type": "markdown",
   "id": "30d2d444",
   "metadata": {},
   "source": [
    "### Variables II\n",
    "\n",
    "In this video you saw that the following two are equivalent in terms of assignment:\n",
    "\n",
    "x = 3\n",
    "\n",
    "y = 4\n",
    "\n",
    "z = 5\n",
    "\n",
    "and\n",
    "\n",
    "x, y, z = 3, 4, 5\n",
    "\n",
    "However, the above isn't a great way to assign variables in most cases, because our variable names should be descriptive of the values they hold.\n",
    "\n",
    "Besides writing variable names that are descriptive, there are a few things to watch out for when naming variables in Python.\n",
    "\n",
    "1. Only use ordinary letters, numbers and underscores in your variable names. They can’t have spaces, and need to start with a letter or underscore.\n",
    "\n",
    "2. You can’t use Python's reserved words, or \"keywords,\" as variable names. There are reserved words in every programming language that have important purposes, and you’ll learn about some of these throughout this course. Creating names that are descriptive of the values often will help you avoid using any of these keywords. Here you can see a table of Python's reserved words.\n",
    "\n",
    "3. The pythonic way to name variables is to use all lowercase letters and underscores to separate words.\n",
    "\n",
    "**YES**\n",
    "\n",
    "my_height = 58\n",
    "\n",
    "my_lat = 40\n",
    "\n",
    "my_long = 105\n",
    "\n",
    "**NO**\n",
    "\n",
    "my height = 58\n",
    "\n",
    "MYLONG = 40\n",
    "\n",
    "MyLat = 105\n",
    "\n",
    "Though the last two of these would work in python, they are not pythonic ways to name variables. The way we name variables is called snake case, because we tend to connect the words with underscores."
   ]
  },
  {
   "cell_type": "code",
   "execution_count": 55,
   "id": "3f53afa4",
   "metadata": {},
   "outputs": [
    {
     "data": {
      "text/html": [
       "<iframe width=\"573\" height=\"322\" src=\"https://www.youtube.com/embed/p_qfzL-x3Cs\" title=\"할당 연산자\" frameborder=\"0\" allow=\"accelerometer; autoplay; clipboard-write; encrypted-media; gyroscope; picture-in-picture; web-share\" allowfullscreen></iframe>"
      ],
      "text/plain": [
       "<IPython.core.display.HTML object>"
      ]
     },
     "execution_count": 55,
     "metadata": {},
     "output_type": "execute_result"
    }
   ],
   "source": [
    "HTML('<iframe width=\"573\" height=\"322\" src=\"https://www.youtube.com/embed/p_qfzL-x3Cs\" title=\"할당 연산자\" frameborder=\"0\" allow=\"accelerometer; autoplay; clipboard-write; encrypted-media; gyroscope; picture-in-picture; web-share\" allowfullscreen></iframe>')"
   ]
  },
  {
   "cell_type": "markdown",
   "id": "b900c23e",
   "metadata": {},
   "source": [
    "**Example**\n",
    "\n",
    "mv_population = 74728\n",
    "\n",
    "mv_population = 74728 + 4000 - 600\n",
    "\n",
    "print(mv_population) # 78128\n",
    "\n",
    "**Assignment Operators**\n",
    "\n",
    "Below are the assignment operators from the video. You can also use *= in a similar way, but this is less common than the operations shown below. You can find some practice with much of what we have already covered here.\n",
    "\n"
   ]
  },
  {
   "cell_type": "code",
   "execution_count": null,
   "id": "0534572d",
   "metadata": {},
   "outputs": [],
   "source": []
  }
 ],
 "metadata": {
  "kernelspec": {
   "display_name": "Python 3 (ipykernel)",
   "language": "python",
   "name": "python3"
  },
  "language_info": {
   "codemirror_mode": {
    "name": "ipython",
    "version": 3
   },
   "file_extension": ".py",
   "mimetype": "text/x-python",
   "name": "python",
   "nbconvert_exporter": "python",
   "pygments_lexer": "ipython3",
   "version": "3.9.13"
  }
 },
 "nbformat": 4,
 "nbformat_minor": 5
}
