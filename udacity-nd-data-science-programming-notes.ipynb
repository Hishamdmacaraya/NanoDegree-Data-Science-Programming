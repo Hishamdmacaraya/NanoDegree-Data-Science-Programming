{
 "cells": [
  {
   "cell_type": "markdown",
   "id": "1b4446ce",
   "metadata": {},
   "source": [
    "# What is Programming Course"
   ]
  },
  {
   "cell_type": "markdown",
   "id": "72d81259",
   "metadata": {},
   "source": [
    "Hello and welcome to this course on learning \"What is Programming\"! In this course, we're going to be looking at words, terms, and concepts in the worlds of web technology and programming. This course isn't going to dive into the nitty gritty details of how a web request is converted to bits and sent across the wire as electrical pulses...and that level of detail of explanation is already significantly more complicated and low-level than we'll be diving!\n",
    "\n",
    "In this course, we'll be looking at five main sections:\n",
    "\n",
    "* Web Languages\n",
    "* Programming\n",
    "* Standards\n",
    "* Version Control\n",
    "* Disparate Web Terms\n",
    "\n",
    "**Web Languages**\n",
    "The web is a wide and varied place. Many people spend their entire careers in the world of web development. So in this section, we'll be looking at:\n",
    "\n",
    "* front end vs back end\n",
    "* Front-end languages\n",
    "* Back-end languages\n",
    "* Programming\n",
    "The notion of \"programming\" can be a little cryptic if you haven't ever done it before. What exactly does a programmer _do_? How does one become a programmer? In this section, we'll look at:\n",
    "\n",
    "Syntax\n",
    "Text Editors\n",
    "Programming\n",
    "Estimating how long it takes to \"program\"\n",
    "Standards\n",
    "Where do programming languages come from? How are they developed? What in the world is a \"spec\"? We'll look at these questions and others in the following topics:\n",
    "\n",
    "How HTML and CSS are developed\n",
    "How JavaScript is developed\n",
    "How Python is developed\n",
    "Version Control\n",
    "Version Control is incredibly powerful and is used by any programmer that's worth their weight. In the following sections, we'll look at what Version control is, how it works, and other parts of the version control ecosystem. The topics in this section are:\n",
    "\n",
    "Why Version Control is needed\n",
    "How Version Control works\n",
    "Where GitHub fits\n",
    "What a PR is\n",
    "Disparate Web Terms\n",
    "The web is a huge place, and not everything fits neatly into the \"front end\" or the \"back end\". There are terms that span both or terms that are tangentially related. In this section on \"Disparate Web Terms\", we'll be looking at terms and concepts that are in the world of web development but don't fit cleanly in \"front end\", \"back end\", or \"version control\". The topics in this section are:\n",
    "\n",
    "Web Requests\n",
    "Debugging\n",
    "Databases and APIs\n",
    "Markdown vs Markup\n",
    "Libraries and Frameworks\n",
    "CMS\n",
    "Command Line\n"
   ]
  },
  {
   "cell_type": "markdown",
   "id": "6c602923",
   "metadata": {},
   "source": [
    "# Introduction to Python Programming Course"
   ]
  },
  {
   "cell_type": "markdown",
   "id": "6dbd413d",
   "metadata": {},
   "source": [
    "## Welcome to Introduction to Python!\n",
    "\n",
    "In this course, we use Python version 3 (or simply Python 3). If you'd like more details on previous versions of Python and how version 3 differs from previous versions, check out the [History of Python](https://en.wikipedia.org/wiki/History_of_Python) on Wikipedia. If you're new to Python or programming in general, this article will make more sense after you've completed a lesson or two, so you may want to hold off for now. All you need to know now is that your solution code for the programming exercises in this course will be graded based on Python 3 code.\n",
    "\n"
   ]
  },
  {
   "cell_type": "code",
   "execution_count": 1,
   "id": "bfb492b7",
   "metadata": {},
   "outputs": [
    {
     "name": "stderr",
     "output_type": "stream",
     "text": [
      "C:\\Users\\hisha\\anaconda3\\lib\\site-packages\\IPython\\core\\display.py:724: UserWarning: Consider using IPython.display.IFrame instead\n",
      "  warnings.warn(\"Consider using IPython.display.IFrame instead\")\n"
     ]
    },
    {
     "data": {
      "text/html": [
       "<iframe width=\"573\" height=\"322\" src=\"https://www.youtube.com/embed/yyNtiUyI5Tw\" title=\"L1 01 소개 V3\" frameborder=\"0\" allow=\"accelerometer; autoplay; clipboard-write; encrypted-media; gyroscope; picture-in-picture; web-share\" allowfullscreen></iframe>"
      ],
      "text/plain": [
       "<IPython.core.display.HTML object>"
      ]
     },
     "execution_count": 1,
     "metadata": {},
     "output_type": "execute_result"
    }
   ],
   "source": [
    "from IPython.display import HTML\n",
    "\n",
    "HTML('<iframe width=\"573\" height=\"322\" src=\"https://www.youtube.com/embed/yyNtiUyI5Tw\" title=\"L1 01 소개 V3\" frameborder=\"0\" allow=\"accelerometer; autoplay; clipboard-write; encrypted-media; gyroscope; picture-in-picture; web-share\" allowfullscreen></iframe>')"
   ]
  },
  {
   "cell_type": "markdown",
   "id": "8836950e",
   "metadata": {},
   "source": [
    "### Programming in Python\n",
    "As you learn Python throughout this course, there are a few things you should keep in mind.\n",
    "\n",
    "1. Python is case sensitive.\n",
    "2. Spacing is important.\n",
    "3. Use error messages to help you learn.\n",
    "\n",
    "Let’s get started!"
   ]
  },
  {
   "cell_type": "code",
   "execution_count": 2,
   "id": "da4ff5c3",
   "metadata": {},
   "outputs": [
    {
     "data": {
      "text/html": [
       "<iframe width=\"573\" height=\"322\" src=\"https://www.youtube.com/embed/O1cTNYAjeeg\" title=\"L1 03 Python V4 프로그래밍\" frameborder=\"0\" allow=\"accelerometer; autoplay; clipboard-write; encrypted-media; gyroscope; picture-in-picture; web-share\" allowfullscreen></iframe>"
      ],
      "text/plain": [
       "<IPython.core.display.HTML object>"
      ]
     },
     "execution_count": 2,
     "metadata": {},
     "output_type": "execute_result"
    }
   ],
   "source": [
    "HTML('<iframe width=\"573\" height=\"322\" src=\"https://www.youtube.com/embed/O1cTNYAjeeg\" title=\"L1 03 Python V4 프로그래밍\" frameborder=\"0\" allow=\"accelerometer; autoplay; clipboard-write; encrypted-media; gyroscope; picture-in-picture; web-share\" allowfullscreen></iframe>')"
   ]
  },
  {
   "cell_type": "markdown",
   "id": "f97d5ae9",
   "metadata": {},
   "source": [
    "## Data Types and Operators\n",
    "Welcome to this lesson on Data Types and Operators! You'll learn about:\n",
    "\n",
    "- Data Types: Integers, Floats, Booleans, Strings\n",
    "- Operators: Arithmetic, Assignment, Comparison, Logical\n",
    "- Built-In Functions, Type Conversion\n",
    "- Whitespace and Style Guidelines"
   ]
  },
  {
   "cell_type": "markdown",
   "id": "2c67985a",
   "metadata": {},
   "source": [
    "### Arithmetic operators\n",
    "\n",
    "- (+) Addition\n",
    "- (-) Subtraction\n",
    "- (*) Multiplication\n",
    "- / Division\n",
    "- % Mod (the remainder after dividing)\n",
    "- ** Exponentiation (note that ^ does not do this operation, as you might have seen in other languages)\n",
    "- // Divides and rounds down to the nearest integer\n",
    "\n",
    "The usual order of mathematical operations holds in Python, which you can review in this Math Forum page if needed.\n",
    "\n",
    "Examples\n",
    "\n",
    "- print(3 + 5) # 8\n",
    "- print(1 + 2 + 3 * 3) # 12\n",
    "- print(3 ** 2) # 9\n",
    "- print(9 % 2) # 1\n"
   ]
  },
  {
   "cell_type": "markdown",
   "id": "d5f159c0",
   "metadata": {},
   "source": [
    "### Quiz: Average Electricity Bill\n",
    "\n",
    "It's time to try a calculation in Python!\n",
    "\n",
    "My electricity bills for the last three months have been $23, $32 and $64. What is the average monthly electricity bill over the three month period? Write an expression to calculate the mean, and use print() to view the result."
   ]
  },
  {
   "cell_type": "code",
   "execution_count": 3,
   "id": "b09a1da8",
   "metadata": {},
   "outputs": [
    {
     "name": "stdout",
     "output_type": "stream",
     "text": [
      "39.666666666666664\n"
     ]
    }
   ],
   "source": [
    "# Write an expression that calculates the average of 23, 32 and 64\n",
    "# Place the expression in this print statement\n",
    "print((23+32+64)/3)"
   ]
  },
  {
   "cell_type": "markdown",
   "id": "6b925664",
   "metadata": {},
   "source": [
    "### Quiz: Calculate\n",
    "\n",
    "In this quiz you're going to do some calculations for a tiler. Two parts of a floor need tiling. One part is 9 tiles wide by 7 tiles long, the other is 5 tiles wide by 7 tiles long. Tiles come in packages of 6.\n",
    "\n",
    "1. How many tiles are needed?\n",
    "2. You buy 17 packages of tiles containing 6 tiles each. How many tiles will be left over?"
   ]
  },
  {
   "cell_type": "code",
   "execution_count": 4,
   "id": "48e4af7e",
   "metadata": {},
   "outputs": [
    {
     "name": "stdout",
     "output_type": "stream",
     "text": [
      "98\n",
      "4\n"
     ]
    }
   ],
   "source": [
    "# Fill this in with an expression that calculates how many tiles are needed.\n",
    "print((9*7)+(5*7))\n",
    "\n",
    "# Fill this in with an expression that calculates how many tiles will be left over.\n",
    "print(17*6-98)"
   ]
  },
  {
   "cell_type": "markdown",
   "id": "1c22922a",
   "metadata": {},
   "source": [
    "### Variables and Assignment Operators\n",
    "From this page, you will get your first look at variables in Python. There are three videos in this concept to show you some different cases you might run into!"
   ]
  },
  {
   "cell_type": "code",
   "execution_count": 5,
   "id": "3f7df500",
   "metadata": {},
   "outputs": [
    {
     "data": {
      "text/html": [
       "<iframe width=\"573\" height=\"322\" src=\"https://www.youtube.com/embed/7pxpUot4x0w\" title=\"변수\" frameborder=\"0\" allow=\"accelerometer; autoplay; clipboard-write; encrypted-media; gyroscope; picture-in-picture; web-share\" allowfullscreen></iframe>"
      ],
      "text/plain": [
       "<IPython.core.display.HTML object>"
      ]
     },
     "execution_count": 5,
     "metadata": {},
     "output_type": "execute_result"
    }
   ],
   "source": [
    "HTML('<iframe width=\"573\" height=\"322\" src=\"https://www.youtube.com/embed/7pxpUot4x0w\" title=\"변수\" frameborder=\"0\" allow=\"accelerometer; autoplay; clipboard-write; encrypted-media; gyroscope; picture-in-picture; web-share\" allowfullscreen></iframe>')"
   ]
  },
  {
   "cell_type": "markdown",
   "id": "6d6131e4",
   "metadata": {},
   "source": [
    "### Variables I\n",
    "Variables are used all the time in Python! Below is the example you saw in the video where we performed the following:\n",
    "\n",
    "mv_population = 74728\n",
    "\n",
    "Here mv_population is a variable, which holds the value of 74728. This assigns the item on the right to the name on the left, which is actually a little different than mathematical equality, as 74728 does not hold the value of mv_population.\n",
    "\n",
    "In any case, whatever term is on the left side, is now a name for whatever value is on the right side. Once a value has been assigned to a variable name, you can access the value from the variable name."
   ]
  },
  {
   "cell_type": "code",
   "execution_count": 6,
   "id": "bc4d7fea",
   "metadata": {},
   "outputs": [
    {
     "data": {
      "text/html": [
       "<iframe width=\"573\" height=\"322\" src=\"https://www.youtube.com/embed/4IJqbP8vi6A\" title=\"L2 04b 변수 II V3\" frameborder=\"0\" allow=\"accelerometer; autoplay; clipboard-write; encrypted-media; gyroscope; picture-in-picture; web-share\" allowfullscreen></iframe>"
      ],
      "text/plain": [
       "<IPython.core.display.HTML object>"
      ]
     },
     "execution_count": 6,
     "metadata": {},
     "output_type": "execute_result"
    }
   ],
   "source": [
    "HTML('<iframe width=\"573\" height=\"322\" src=\"https://www.youtube.com/embed/4IJqbP8vi6A\" title=\"L2 04b 변수 II V3\" frameborder=\"0\" allow=\"accelerometer; autoplay; clipboard-write; encrypted-media; gyroscope; picture-in-picture; web-share\" allowfullscreen></iframe>')"
   ]
  },
  {
   "cell_type": "markdown",
   "id": "30d2d444",
   "metadata": {},
   "source": [
    "### Variables II\n",
    "\n",
    "In this video you saw that the following two are equivalent in terms of assignment:\n",
    "\n",
    "x = 3\n",
    "\n",
    "y = 4\n",
    "\n",
    "z = 5\n",
    "\n",
    "and\n",
    "\n",
    "x, y, z = 3, 4, 5\n",
    "\n",
    "However, the above isn't a great way to assign variables in most cases, because our variable names should be descriptive of the values they hold.\n",
    "\n",
    "Besides writing variable names that are descriptive, there are a few things to watch out for when naming variables in Python.\n",
    "\n",
    "1. Only use ordinary letters, numbers and underscores in your variable names. They can’t have spaces, and need to start with a letter or underscore.\n",
    "\n",
    "2. You can’t use Python's reserved words, or \"keywords,\" as variable names. There are reserved words in every programming language that have important purposes, and you’ll learn about some of these throughout this course. Creating names that are descriptive of the values often will help you avoid using any of these keywords. Here you can see a table of Python's reserved words.\n",
    "\n",
    "3. The pythonic way to name variables is to use all lowercase letters and underscores to separate words.\n",
    "\n",
    "**YES**\n",
    "\n",
    "my_height = 58\n",
    "\n",
    "my_lat = 40\n",
    "\n",
    "my_long = 105\n",
    "\n",
    "**NO**\n",
    "\n",
    "my height = 58\n",
    "\n",
    "MYLONG = 40\n",
    "\n",
    "MyLat = 105\n",
    "\n",
    "Though the last two of these would work in python, they are not pythonic ways to name variables. The way we name variables is called snake case, because we tend to connect the words with underscores."
   ]
  },
  {
   "cell_type": "code",
   "execution_count": 7,
   "id": "3f53afa4",
   "metadata": {},
   "outputs": [
    {
     "data": {
      "text/html": [
       "<iframe width=\"573\" height=\"322\" src=\"https://www.youtube.com/embed/p_qfzL-x3Cs\" title=\"할당 연산자\" frameborder=\"0\" allow=\"accelerometer; autoplay; clipboard-write; encrypted-media; gyroscope; picture-in-picture; web-share\" allowfullscreen></iframe>"
      ],
      "text/plain": [
       "<IPython.core.display.HTML object>"
      ]
     },
     "execution_count": 7,
     "metadata": {},
     "output_type": "execute_result"
    }
   ],
   "source": [
    "HTML('<iframe width=\"573\" height=\"322\" src=\"https://www.youtube.com/embed/p_qfzL-x3Cs\" title=\"할당 연산자\" frameborder=\"0\" allow=\"accelerometer; autoplay; clipboard-write; encrypted-media; gyroscope; picture-in-picture; web-share\" allowfullscreen></iframe>')"
   ]
  },
  {
   "cell_type": "markdown",
   "id": "b900c23e",
   "metadata": {},
   "source": [
    "**Example**\n",
    "\n",
    "mv_population = 74728\n",
    "\n",
    "mv_population = 74728 + 4000 - 600\n",
    "\n",
    "print(mv_population) # 78128\n",
    "\n",
    "**Assignment Operators**\n",
    "\n",
    "Below are the assignment operators from the video. You can also use *= in a similar way, but this is less common than the operations shown below. You can find some practice with much of what we have already covered here.\n",
    "\n"
   ]
  },
  {
   "cell_type": "code",
   "execution_count": null,
   "id": "0534572d",
   "metadata": {},
   "outputs": [],
   "source": []
  }
 ],
 "metadata": {
  "kernelspec": {
   "display_name": "Python 3 (ipykernel)",
   "language": "python",
   "name": "python3"
  },
  "language_info": {
   "codemirror_mode": {
    "name": "ipython",
    "version": 3
   },
   "file_extension": ".py",
   "mimetype": "text/x-python",
   "name": "python",
   "nbconvert_exporter": "python",
   "pygments_lexer": "ipython3",
   "version": "3.9.13"
  }
 },
 "nbformat": 4,
 "nbformat_minor": 5
}
